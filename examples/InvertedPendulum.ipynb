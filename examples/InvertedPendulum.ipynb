{
 "cells": [
  {
   "cell_type": "code",
   "execution_count": null,
   "metadata": {},
   "outputs": [],
   "source": []
  }
 ],
 "metadata": {
  "kernelspec": {
   "display_name": "Python 3.8.5 64-bit ('3.8.5')",
   "language": "python",
   "name": "python3"
  },
  "language_info": {
   "name": "python",
   "version": "3.8.5"
  },
  "orig_nbformat": 4,
  "vscode": {
   "interpreter": {
    "hash": "2b1ea3d1bfa9ab3480a59667c0a55c71b2521f2981b1bd3cc3875dc20e93d1dc"
   }
  }
 },
 "nbformat": 4,
 "nbformat_minor": 2
}
